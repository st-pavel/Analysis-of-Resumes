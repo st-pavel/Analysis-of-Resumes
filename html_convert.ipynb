{
 "cells": [
  {
   "cell_type": "code",
   "execution_count": 1,
   "metadata": {},
   "outputs": [
    {
     "name": "stdout",
     "output_type": "stream",
     "text": [
      "HTML файл создан для clearance01.png по пути: images\\clearance01.html\n",
      "HTML файл создан для research01.png по пути: images\\research01.html\n",
      "HTML файл создан для research02.png по пути: images\\research02.html\n",
      "HTML файл создан для research03.png по пути: images\\research03.html\n",
      "HTML файл создан для research04.png по пути: images\\research04.html\n",
      "HTML файл создан для research05.png по пути: images\\research05.html\n",
      "HTML файл создан для research06.png по пути: images\\research06.html\n",
      "HTML файл создан для research07.png по пути: images\\research07.html\n",
      "HTML файл создан для research08.png по пути: images\\research08.html\n",
      "HTML файл создан для research09.png по пути: images\\research09.html\n",
      "HTML файл создан для research10.png по пути: images\\research10.html\n"
     ]
    }
   ],
   "source": [
    "import os\n",
    "\n",
    "# Путь к папке с изображениями\n",
    "images_folder = 'images'\n",
    "\n",
    "# Получаем список всех PNG файлов в папке\n",
    "png_files = [f for f in os.listdir(images_folder) if f.endswith('.png')]\n",
    "\n",
    "# Создаем HTML файл для каждого PNG файла\n",
    "for png_file in png_files:\n",
    "    html_content = f\"\"\"\n",
    "    <html>\n",
    "    <head>\n",
    "        <title>{png_file}</title>\n",
    "    </head>\n",
    "    <body>\n",
    "        <h1>{png_file}</h1>\n",
    "        <img src=\"{png_file}\" alt=\"{png_file}\">\n",
    "    </body>\n",
    "    </html>\n",
    "    \"\"\"\n",
    "    html_file_path = os.path.join(images_folder, f\"{os.path.splitext(png_file)[0]}.html\")\n",
    "    with open(html_file_path, 'w', encoding='utf-8') as html_file:\n",
    "        html_file.write(html_content)\n",
    "\n",
    "    print(f\"HTML файл создан для {png_file} по пути: {html_file_path}\")"
   ]
  }
 ],
 "metadata": {
  "kernelspec": {
   "display_name": ".venv313",
   "language": "python",
   "name": "python3"
  },
  "language_info": {
   "codemirror_mode": {
    "name": "ipython",
    "version": 3
   },
   "file_extension": ".py",
   "mimetype": "text/x-python",
   "name": "python",
   "nbconvert_exporter": "python",
   "pygments_lexer": "ipython3",
   "version": "3.13.1"
  }
 },
 "nbformat": 4,
 "nbformat_minor": 2
}
